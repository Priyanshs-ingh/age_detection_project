{
 "cells": [
  {
   "cell_type": "code",
   "execution_count": 2,
   "metadata": {},
   "outputs": [
    {
     "name": "stdout",
     "output_type": "stream",
     "text": [
      "Fitting 3 folds for each of 36 candidates, totalling 108 fits\n",
      "Predicted Life Expectancy: 71.42458672516807\n"
     ]
    }
   ],
   "source": [
    "import pandas as pd\n",
    "import numpy as np\n",
    "from sklearn.model_selection import train_test_split, GridSearchCV\n",
    "from sklearn.ensemble import RandomForestRegressor\n",
    "from sklearn.metrics import mean_squared_error, r2_score\n",
    "from sklearn.preprocessing import OneHotEncoder\n",
    "from sklearn.compose import ColumnTransformer\n",
    "from sklearn.pipeline import Pipeline\n",
    "\n",
    "def train_model(data_path):\n",
    "    # Load the dataset\n",
    "    data = pd.read_csv(data_path)\n",
    "\n",
    "    # Clean and prepare the data\n",
    "    data.dropna(subset=['Life_Expectancy'], inplace=True)\n",
    "    X = data[['Country', 'Age', 'Cigarettes_Per_Day']]\n",
    "    y = data['Life_Expectancy']\n",
    "\n",
    "    # Preprocessing for categorical data\n",
    "    categorical_features = ['Country']\n",
    "    categorical_transformer = OneHotEncoder(handle_unknown='ignore')\n",
    "    preprocessor = ColumnTransformer(\n",
    "        transformers=[\n",
    "            ('cat', categorical_transformer, categorical_features)\n",
    "        ],\n",
    "        remainder='passthrough'\n",
    "    )\n",
    "\n",
    "    # Create a pipeline with preprocessing and RandomForestRegressor\n",
    "    pipeline = Pipeline(steps=[\n",
    "        ('preprocessor', preprocessor),\n",
    "        ('regressor', RandomForestRegressor(random_state=42))\n",
    "    ])\n",
    "    param_grid = {\n",
    "        'regressor__n_estimators': [50, 100, 200],\n",
    "        'regressor__max_depth': [None, 10, 20, 30],\n",
    "        'regressor__min_samples_split': [2, 5, 10]\n",
    "    }\n",
    "    grid_search = GridSearchCV(pipeline, param_grid, cv=3, scoring='neg_mean_squared_error', verbose=1)\n",
    "\n",
    "    # Train the model\n",
    "    grid_search.fit(X, y)  # Fitting the entire pipeline\n",
    "\n",
    "    return grid_search.best_estimator_\n",
    "\n",
    "def predict_life_expectancy(model, country, age, cigarettes_per_day):\n",
    "    # Create a DataFrame from the inputs\n",
    "    input_data = pd.DataFrame({\n",
    "        'Country': [country],\n",
    "        'Age': [age],\n",
    "        'Cigarettes_Per_Day': [cigarettes_per_day]\n",
    "    })\n",
    "\n",
    "    # Use the trained model to make a prediction\n",
    "    predicted_life_expectancy = model.predict(input_data)\n",
    "\n",
    "    return predicted_life_expectancy[0]\n",
    "\n",
    "# Only one place to specify the data file path\n",
    "data_path = 'age_detection_model.csv'\n",
    "model = train_model(data_path)\n",
    "\n",
    "# Example usage\n",
    "predicted_age = predict_life_expectancy(model, 'USA', 30, 5)\n",
    "print(f\"Predicted Life Expectancy: {predicted_age}\")\n"
   ]
  },
  {
   "cell_type": "code",
   "execution_count": 4,
   "metadata": {},
   "outputs": [
    {
     "name": "stdout",
     "output_type": "stream",
     "text": [
      "Requirement already satisfied: joblib in c:\\users\\priyansh singh\\appdata\\local\\programs\\python\\python312\\lib\\site-packages (1.4.2)\n",
      "Note: you may need to restart the kernel to use updated packages.\n"
     ]
    },
    {
     "name": "stderr",
     "output_type": "stream",
     "text": [
      "\n",
      "[notice] A new release of pip is available: 24.2 -> 24.3.1\n",
      "[notice] To update, run: python.exe -m pip install --upgrade pip\n"
     ]
    }
   ],
   "source": [
    "pip install joblib\n"
   ]
  },
  {
   "cell_type": "code",
   "execution_count": null,
   "metadata": {},
   "outputs": [
    {
     "data": {
      "text/plain": [
       "['age.pkl']"
      ]
     },
     "execution_count": 6,
     "metadata": {},
     "output_type": "execute_result"
    },
    {
     "ename": "",
     "evalue": "",
     "output_type": "error",
     "traceback": [
      "\u001b[1;31mThe Kernel crashed while executing code in the current cell or a previous cell. \n",
      "\u001b[1;31mPlease review the code in the cell(s) to identify a possible cause of the failure. \n",
      "\u001b[1;31mClick <a href='https://aka.ms/vscodeJupyterKernelCrash'>here</a> for more info. \n",
      "\u001b[1;31mView Jupyter <a href='command:jupyter.viewOutput'>log</a> for further details."
     ]
    }
   ],
   "source": [
    "import joblib\n",
    "\n",
    "# Assuming 'model' is your trained model variable\n",
    "joblib.dump(model, 'age.pkl')  # Save the model as a .pkl file\n",
    "\n"
   ]
  }
 ],
 "metadata": {
  "kernelspec": {
   "display_name": "Python 3",
   "language": "python",
   "name": "python3"
  },
  "language_info": {
   "codemirror_mode": {
    "name": "ipython",
    "version": 3
   },
   "file_extension": ".py",
   "mimetype": "text/x-python",
   "name": "python",
   "nbconvert_exporter": "python",
   "pygments_lexer": "ipython3",
   "version": "3.12.5"
  }
 },
 "nbformat": 4,
 "nbformat_minor": 2
}

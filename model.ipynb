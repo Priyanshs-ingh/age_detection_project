{
 "cells": [
  {
   "cell_type": "code",
   "execution_count": 5,
   "metadata": {},
   "outputs": [
    {
     "name": "stdout",
     "output_type": "stream",
     "text": [
      "Index(['Country', '1990', '2021.0', 'Absolute Change', 'Relative Change',\n",
      "       '1990.1', '2021.0.1', 'Absolute Change.1', 'Relative Change.1',\n",
      "       '1990.2', '2021.0.2', 'Absolute Change.2', 'Relative Change.2',\n",
      "       'Smoking_1990', 'Smoking_2021', 'Change', 'Percent_Change', 'Disease1',\n",
      "       'Disease2', 'Disease3', 'Disease4', 'Disease5', 'Disease6', 'Disease7',\n",
      "       'Disease8', 'Disease9', 'Disease10', 'Disease11', 'Disease12',\n",
      "       'Disease13', 'Disease14', 'Disease15', 'Disease16', 'Disease17',\n",
      "       'Disease18', 'Disease19', 'Disease20', 'Disease21', 'Disease22',\n",
      "       'Disease23', 'Disease24', 'Disease25', 'Disease26', 'Disease27',\n",
      "       'Disease28', 'Metric1', 'Metric2', 'Population'],\n",
      "      dtype='object')\n",
      "Mean Squared Error: 6832347.060235931\n"
     ]
    }
   ],
   "source": [
    "import pandas as pd\n",
    "from sklearn.model_selection import train_test_split\n",
    "from sklearn.ensemble import RandomForestRegressor  # Assuming a regression model\n",
    "from sklearn.metrics import mean_squared_error\n",
    "import numpy as np\n",
    "\n",
    "# Load data\n",
    "data = pd.read_csv('merged_data.csv')\n",
    "\n",
    "# Verify and print all column names to confirm the disease and smoking columns\n",
    "print(data.columns)\n",
    "\n",
    "# Identify all columns that are disease metrics (assuming they start with 'Disease')\n",
    "disease_columns = [col for col in data.columns if col.startswith('Disease')]\n",
    "\n",
    "# Calculate the Health Index\n",
    "weighting_factor_smoking = 1.5  # Smoking might be more impactful, this is arbitrary and for demonstration\n",
    "number_of_factors = len(disease_columns) + 1  # Number of disease metrics plus one for smoking\n",
    "\n",
    "# Sum all disease columns and add smoking adjusted by its weighting factor\n",
    "data['Health_Index'] = (data[disease_columns].sum(axis=1) + data['Smoking_2021'] * weighting_factor_smoking) / number_of_factors\n",
    "\n",
    "# Prepare features and target variable\n",
    "X = data[disease_columns + ['Smoking_2021']]  # features include all disease columns and smoking\n",
    "y = data['Health_Index']  # target\n",
    "\n",
    "# Split the data into training and testing sets\n",
    "X_train, X_test, y_train, y_test = train_test_split(X, y, test_size=0.2, random_state=42)\n",
    "\n",
    "# Initialize and train the model\n",
    "model = RandomForestRegressor(random_state=42)\n",
    "model.fit(X_train, y_train)\n",
    "\n",
    "# Predict and evaluate\n",
    "predictions = model.predict(X_test)\n",
    "mse = mean_squared_error(y_test, predictions)\n",
    "\n",
    "print(f'Mean Squared Error: {mse}')\n"
   ]
  },
  {
   "cell_type": "code",
   "execution_count": 3,
   "metadata": {},
   "outputs": [
    {
     "name": "stdout",
     "output_type": "stream",
     "text": [
      "Index(['Country', '1990', '2021.0', 'Absolute Change', 'Relative Change',\n",
      "       '1990.1', '2021.0.1', 'Absolute Change.1', 'Relative Change.1',\n",
      "       '1990.2', '2021.0.2', 'Absolute Change.2', 'Relative Change.2',\n",
      "       'Smoking_1990', 'Smoking_2021', 'Change', 'Percent_Change', 'Disease1',\n",
      "       'Disease2', 'Disease3', 'Disease4', 'Disease5', 'Disease6', 'Disease7',\n",
      "       'Disease8', 'Disease9', 'Disease10', 'Disease11', 'Disease12',\n",
      "       'Disease13', 'Disease14', 'Disease15', 'Disease16', 'Disease17',\n",
      "       'Disease18', 'Disease19', 'Disease20', 'Disease21', 'Disease22',\n",
      "       'Disease23', 'Disease24', 'Disease25', 'Disease26', 'Disease27',\n",
      "       'Disease28', 'Metric1', 'Metric2', 'Population'],\n",
      "      dtype='object')\n"
     ]
    }
   ],
   "source": [
    "print(data.columns)  # This will list all the column names in your DataFrame\n"
   ]
  }
 ],
 "metadata": {
  "kernelspec": {
   "display_name": "Python 3",
   "language": "python",
   "name": "python3"
  },
  "language_info": {
   "codemirror_mode": {
    "name": "ipython",
    "version": 3
   },
   "file_extension": ".py",
   "mimetype": "text/x-python",
   "name": "python",
   "nbconvert_exporter": "python",
   "pygments_lexer": "ipython3",
   "version": "3.12.5"
  }
 },
 "nbformat": 4,
 "nbformat_minor": 2
}

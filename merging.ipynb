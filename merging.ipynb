{
 "cells": [
  {
   "cell_type": "code",
   "execution_count": 1,
   "metadata": {},
   "outputs": [
    {
     "name": "stdout",
     "output_type": "stream",
     "text": [
      "Age by Category Columns: Index(['Country/area', '1990', '2021.0', 'Absolute Change', 'Relative Change',\n",
      "       '1990.1', '2021.0.1', 'Absolute Change.1', 'Relative Change.1',\n",
      "       '1990.2', '2021.0.2', 'Absolute Change.2', 'Relative Change.2'],\n",
      "      dtype='object')\n",
      "Death by Smoking Columns: Index(['Albania', '137.5', '94.7', '-42.8', '-0.31'], dtype='object')\n",
      "Types of Diseases Columns: Index(['Afghanistan', '25371', '1052', '7478', '296', '7168', '3125', '3144',\n",
      "       '4372', '717', '2764', '25968', '8312', '6286', '13837', '30644',\n",
      "       '12218', '2449', '588', '810', '687', '3931', '1077', '609', '4502',\n",
      "       '1873', '2517', '11108', '14025'],\n",
      "      dtype='object')\n",
      "Gender Data Columns: Index(['Afghanistan', '0.394', '0.072', '39068978'], dtype='object')\n"
     ]
    },
    {
     "ename": "KeyError",
     "evalue": "'Country'",
     "output_type": "error",
     "traceback": [
      "\u001b[1;31m---------------------------------------------------------------------------\u001b[0m",
      "\u001b[1;31mKeyError\u001b[0m                                  Traceback (most recent call last)",
      "\u001b[1;32m~\\AppData\\Local\\Temp\\ipykernel_2420\\2919432282.py\u001b[0m in \u001b[0;36m?\u001b[1;34m()\u001b[0m\n\u001b[0;32m     23\u001b[0m \u001b[1;31m# List of dataframes to merge\u001b[0m\u001b[1;33m\u001b[0m\u001b[1;33m\u001b[0m\u001b[0m\n\u001b[0;32m     24\u001b[0m \u001b[0mdata_frames\u001b[0m \u001b[1;33m=\u001b[0m \u001b[1;33m[\u001b[0m\u001b[0mage_by_category\u001b[0m\u001b[1;33m,\u001b[0m \u001b[0mdeath_by_smoking\u001b[0m\u001b[1;33m,\u001b[0m \u001b[0mtypes_of_diseases\u001b[0m\u001b[1;33m,\u001b[0m \u001b[0mgender_data\u001b[0m\u001b[1;33m]\u001b[0m\u001b[1;33m\u001b[0m\u001b[1;33m\u001b[0m\u001b[0m\n\u001b[0;32m     25\u001b[0m \u001b[1;33m\u001b[0m\u001b[0m\n\u001b[0;32m     26\u001b[0m \u001b[1;31m# Merge all dataframes on 'Country' column using an inner join\u001b[0m\u001b[1;33m\u001b[0m\u001b[1;33m\u001b[0m\u001b[0m\n\u001b[1;32m---> 27\u001b[1;33m df_merged = reduce(lambda  left,right: pd.merge(left, right, on=['Country'],\n\u001b[0m\u001b[0;32m     28\u001b[0m                                             \u001b[0mhow\u001b[0m\u001b[1;33m=\u001b[0m\u001b[1;34m'inner'\u001b[0m\u001b[1;33m)\u001b[0m\u001b[1;33m,\u001b[0m \u001b[0mdata_frames\u001b[0m\u001b[1;33m)\u001b[0m\u001b[1;33m\u001b[0m\u001b[1;33m\u001b[0m\u001b[0m\n\u001b[0;32m     29\u001b[0m \u001b[1;33m\u001b[0m\u001b[0m\n\u001b[0;32m     30\u001b[0m \u001b[1;31m# Inspect the merged DataFrame\u001b[0m\u001b[1;33m\u001b[0m\u001b[1;33m\u001b[0m\u001b[0m\n",
      "\u001b[1;32m~\\AppData\\Local\\Temp\\ipykernel_2420\\2919432282.py\u001b[0m in \u001b[0;36m?\u001b[1;34m(left, right)\u001b[0m\n\u001b[1;32m---> 27\u001b[1;33m df_merged = reduce(lambda  left,right: pd.merge(left, right, on=['Country'],\n\u001b[0m\u001b[0;32m     28\u001b[0m                                             \u001b[0mhow\u001b[0m\u001b[1;33m=\u001b[0m\u001b[1;34m'inner'\u001b[0m\u001b[1;33m)\u001b[0m\u001b[1;33m,\u001b[0m \u001b[0mdata_frames\u001b[0m\u001b[1;33m)\u001b[0m\u001b[1;33m\u001b[0m\u001b[1;33m\u001b[0m\u001b[0m\n",
      "\u001b[1;32mc:\\Users\\priyansh singh\\AppData\\Local\\Programs\\Python\\Python312\\Lib\\site-packages\\pandas\\core\\reshape\\merge.py\u001b[0m in \u001b[0;36m?\u001b[1;34m(left, right, how, on, left_on, right_on, left_index, right_index, sort, suffixes, copy, indicator, validate)\u001b[0m\n\u001b[0;32m    166\u001b[0m             \u001b[0mvalidate\u001b[0m\u001b[1;33m=\u001b[0m\u001b[0mvalidate\u001b[0m\u001b[1;33m,\u001b[0m\u001b[1;33m\u001b[0m\u001b[1;33m\u001b[0m\u001b[0m\n\u001b[0;32m    167\u001b[0m             \u001b[0mcopy\u001b[0m\u001b[1;33m=\u001b[0m\u001b[0mcopy\u001b[0m\u001b[1;33m,\u001b[0m\u001b[1;33m\u001b[0m\u001b[1;33m\u001b[0m\u001b[0m\n\u001b[0;32m    168\u001b[0m         \u001b[1;33m)\u001b[0m\u001b[1;33m\u001b[0m\u001b[1;33m\u001b[0m\u001b[0m\n\u001b[0;32m    169\u001b[0m     \u001b[1;32melse\u001b[0m\u001b[1;33m:\u001b[0m\u001b[1;33m\u001b[0m\u001b[1;33m\u001b[0m\u001b[0m\n\u001b[1;32m--> 170\u001b[1;33m         op = _MergeOperation(\n\u001b[0m\u001b[0;32m    171\u001b[0m             \u001b[0mleft_df\u001b[0m\u001b[1;33m,\u001b[0m\u001b[1;33m\u001b[0m\u001b[1;33m\u001b[0m\u001b[0m\n\u001b[0;32m    172\u001b[0m             \u001b[0mright_df\u001b[0m\u001b[1;33m,\u001b[0m\u001b[1;33m\u001b[0m\u001b[1;33m\u001b[0m\u001b[0m\n\u001b[0;32m    173\u001b[0m             \u001b[0mhow\u001b[0m\u001b[1;33m=\u001b[0m\u001b[0mhow\u001b[0m\u001b[1;33m,\u001b[0m\u001b[1;33m\u001b[0m\u001b[1;33m\u001b[0m\u001b[0m\n",
      "\u001b[1;32mc:\\Users\\priyansh singh\\AppData\\Local\\Programs\\Python\\Python312\\Lib\\site-packages\\pandas\\core\\reshape\\merge.py\u001b[0m in \u001b[0;36m?\u001b[1;34m(self, left, right, how, on, left_on, right_on, left_index, right_index, sort, suffixes, indicator, validate)\u001b[0m\n\u001b[0;32m    790\u001b[0m             \u001b[0mself\u001b[0m\u001b[1;33m.\u001b[0m\u001b[0mright_join_keys\u001b[0m\u001b[1;33m,\u001b[0m\u001b[1;33m\u001b[0m\u001b[1;33m\u001b[0m\u001b[0m\n\u001b[0;32m    791\u001b[0m             \u001b[0mself\u001b[0m\u001b[1;33m.\u001b[0m\u001b[0mjoin_names\u001b[0m\u001b[1;33m,\u001b[0m\u001b[1;33m\u001b[0m\u001b[1;33m\u001b[0m\u001b[0m\n\u001b[0;32m    792\u001b[0m             \u001b[0mleft_drop\u001b[0m\u001b[1;33m,\u001b[0m\u001b[1;33m\u001b[0m\u001b[1;33m\u001b[0m\u001b[0m\n\u001b[0;32m    793\u001b[0m             \u001b[0mright_drop\u001b[0m\u001b[1;33m,\u001b[0m\u001b[1;33m\u001b[0m\u001b[1;33m\u001b[0m\u001b[0m\n\u001b[1;32m--> 794\u001b[1;33m         \u001b[1;33m)\u001b[0m \u001b[1;33m=\u001b[0m \u001b[0mself\u001b[0m\u001b[1;33m.\u001b[0m\u001b[0m_get_merge_keys\u001b[0m\u001b[1;33m(\u001b[0m\u001b[1;33m)\u001b[0m\u001b[1;33m\u001b[0m\u001b[1;33m\u001b[0m\u001b[0m\n\u001b[0m\u001b[0;32m    795\u001b[0m \u001b[1;33m\u001b[0m\u001b[0m\n\u001b[0;32m    796\u001b[0m         \u001b[1;32mif\u001b[0m \u001b[0mleft_drop\u001b[0m\u001b[1;33m:\u001b[0m\u001b[1;33m\u001b[0m\u001b[1;33m\u001b[0m\u001b[0m\n\u001b[0;32m    797\u001b[0m             \u001b[0mself\u001b[0m\u001b[1;33m.\u001b[0m\u001b[0mleft\u001b[0m \u001b[1;33m=\u001b[0m \u001b[0mself\u001b[0m\u001b[1;33m.\u001b[0m\u001b[0mleft\u001b[0m\u001b[1;33m.\u001b[0m\u001b[0m_drop_labels_or_levels\u001b[0m\u001b[1;33m(\u001b[0m\u001b[0mleft_drop\u001b[0m\u001b[1;33m)\u001b[0m\u001b[1;33m\u001b[0m\u001b[1;33m\u001b[0m\u001b[0m\n",
      "\u001b[1;32mc:\\Users\\priyansh singh\\AppData\\Local\\Programs\\Python\\Python312\\Lib\\site-packages\\pandas\\core\\reshape\\merge.py\u001b[0m in \u001b[0;36m?\u001b[1;34m(self)\u001b[0m\n\u001b[0;32m   1293\u001b[0m                         \u001b[1;31m# Then we're either Hashable or a wrong-length arraylike,\u001b[0m\u001b[1;33m\u001b[0m\u001b[1;33m\u001b[0m\u001b[0m\n\u001b[0;32m   1294\u001b[0m                         \u001b[1;31m#  the latter of which will raise\u001b[0m\u001b[1;33m\u001b[0m\u001b[1;33m\u001b[0m\u001b[0m\n\u001b[0;32m   1295\u001b[0m                         \u001b[0mrk\u001b[0m \u001b[1;33m=\u001b[0m \u001b[0mcast\u001b[0m\u001b[1;33m(\u001b[0m\u001b[0mHashable\u001b[0m\u001b[1;33m,\u001b[0m \u001b[0mrk\u001b[0m\u001b[1;33m)\u001b[0m\u001b[1;33m\u001b[0m\u001b[1;33m\u001b[0m\u001b[0m\n\u001b[0;32m   1296\u001b[0m                         \u001b[1;32mif\u001b[0m \u001b[0mrk\u001b[0m \u001b[1;32mis\u001b[0m \u001b[1;32mnot\u001b[0m \u001b[1;32mNone\u001b[0m\u001b[1;33m:\u001b[0m\u001b[1;33m\u001b[0m\u001b[1;33m\u001b[0m\u001b[0m\n\u001b[1;32m-> 1297\u001b[1;33m                             \u001b[0mright_keys\u001b[0m\u001b[1;33m.\u001b[0m\u001b[0mappend\u001b[0m\u001b[1;33m(\u001b[0m\u001b[0mright\u001b[0m\u001b[1;33m.\u001b[0m\u001b[0m_get_label_or_level_values\u001b[0m\u001b[1;33m(\u001b[0m\u001b[0mrk\u001b[0m\u001b[1;33m)\u001b[0m\u001b[1;33m)\u001b[0m\u001b[1;33m\u001b[0m\u001b[1;33m\u001b[0m\u001b[0m\n\u001b[0m\u001b[0;32m   1298\u001b[0m                         \u001b[1;32melse\u001b[0m\u001b[1;33m:\u001b[0m\u001b[1;33m\u001b[0m\u001b[1;33m\u001b[0m\u001b[0m\n\u001b[0;32m   1299\u001b[0m                             \u001b[1;31m# work-around for merge_asof(right_index=True)\u001b[0m\u001b[1;33m\u001b[0m\u001b[1;33m\u001b[0m\u001b[0m\n\u001b[0;32m   1300\u001b[0m                             \u001b[0mright_keys\u001b[0m\u001b[1;33m.\u001b[0m\u001b[0mappend\u001b[0m\u001b[1;33m(\u001b[0m\u001b[0mright\u001b[0m\u001b[1;33m.\u001b[0m\u001b[0mindex\u001b[0m\u001b[1;33m.\u001b[0m\u001b[0m_values\u001b[0m\u001b[1;33m)\u001b[0m\u001b[1;33m\u001b[0m\u001b[1;33m\u001b[0m\u001b[0m\n",
      "\u001b[1;32mc:\\Users\\priyansh singh\\AppData\\Local\\Programs\\Python\\Python312\\Lib\\site-packages\\pandas\\core\\generic.py\u001b[0m in \u001b[0;36m?\u001b[1;34m(self, key, axis)\u001b[0m\n\u001b[0;32m   1907\u001b[0m             \u001b[0mvalues\u001b[0m \u001b[1;33m=\u001b[0m \u001b[0mself\u001b[0m\u001b[1;33m.\u001b[0m\u001b[0mxs\u001b[0m\u001b[1;33m(\u001b[0m\u001b[0mkey\u001b[0m\u001b[1;33m,\u001b[0m \u001b[0maxis\u001b[0m\u001b[1;33m=\u001b[0m\u001b[0mother_axes\u001b[0m\u001b[1;33m[\u001b[0m\u001b[1;36m0\u001b[0m\u001b[1;33m]\u001b[0m\u001b[1;33m)\u001b[0m\u001b[1;33m.\u001b[0m\u001b[0m_values\u001b[0m\u001b[1;33m\u001b[0m\u001b[1;33m\u001b[0m\u001b[0m\n\u001b[0;32m   1908\u001b[0m         \u001b[1;32melif\u001b[0m \u001b[0mself\u001b[0m\u001b[1;33m.\u001b[0m\u001b[0m_is_level_reference\u001b[0m\u001b[1;33m(\u001b[0m\u001b[0mkey\u001b[0m\u001b[1;33m,\u001b[0m \u001b[0maxis\u001b[0m\u001b[1;33m=\u001b[0m\u001b[0maxis\u001b[0m\u001b[1;33m)\u001b[0m\u001b[1;33m:\u001b[0m\u001b[1;33m\u001b[0m\u001b[1;33m\u001b[0m\u001b[0m\n\u001b[0;32m   1909\u001b[0m             \u001b[0mvalues\u001b[0m \u001b[1;33m=\u001b[0m \u001b[0mself\u001b[0m\u001b[1;33m.\u001b[0m\u001b[0maxes\u001b[0m\u001b[1;33m[\u001b[0m\u001b[0maxis\u001b[0m\u001b[1;33m]\u001b[0m\u001b[1;33m.\u001b[0m\u001b[0mget_level_values\u001b[0m\u001b[1;33m(\u001b[0m\u001b[0mkey\u001b[0m\u001b[1;33m)\u001b[0m\u001b[1;33m.\u001b[0m\u001b[0m_values\u001b[0m\u001b[1;33m\u001b[0m\u001b[1;33m\u001b[0m\u001b[0m\n\u001b[0;32m   1910\u001b[0m         \u001b[1;32melse\u001b[0m\u001b[1;33m:\u001b[0m\u001b[1;33m\u001b[0m\u001b[1;33m\u001b[0m\u001b[0m\n\u001b[1;32m-> 1911\u001b[1;33m             \u001b[1;32mraise\u001b[0m \u001b[0mKeyError\u001b[0m\u001b[1;33m(\u001b[0m\u001b[0mkey\u001b[0m\u001b[1;33m)\u001b[0m\u001b[1;33m\u001b[0m\u001b[1;33m\u001b[0m\u001b[0m\n\u001b[0m\u001b[0;32m   1912\u001b[0m \u001b[1;33m\u001b[0m\u001b[0m\n\u001b[0;32m   1913\u001b[0m         \u001b[1;31m# Check for duplicates\u001b[0m\u001b[1;33m\u001b[0m\u001b[1;33m\u001b[0m\u001b[0m\n\u001b[0;32m   1914\u001b[0m         \u001b[1;32mif\u001b[0m \u001b[0mvalues\u001b[0m\u001b[1;33m.\u001b[0m\u001b[0mndim\u001b[0m \u001b[1;33m>\u001b[0m \u001b[1;36m1\u001b[0m\u001b[1;33m:\u001b[0m\u001b[1;33m\u001b[0m\u001b[1;33m\u001b[0m\u001b[0m\n",
      "\u001b[1;31mKeyError\u001b[0m: 'Country'"
     ]
    }
   ],
   "source": [
    "import pandas as pd\n",
    "\n",
    "# Load the datasets\n",
    "age_by_category = pd.read_csv('cleaned_age_by_category.csv')\n",
    "death_by_smoking = pd.read_csv('cleaned_death_by_smoking.csv')\n",
    "types_of_diseases = pd.read_csv('cleaned_types_of_diseases.csv')\n",
    "gender_data = pd.read_csv('cleaned_gender.csv')\n",
    "\n",
    "# Print column names to identify overlapping columns\n",
    "print(\"Age by Category Columns:\", age_by_category.columns)\n",
    "print(\"Death by Smoking Columns:\", death_by_smoking.columns)\n",
    "print(\"Types of Diseases Columns:\", types_of_diseases.columns)\n",
    "print(\"Gender Data Columns:\", gender_data.columns)\n",
    "\n",
    "# Assuming 'Country' is the common column for merging\n",
    "# Check for any overlapping column names that are not 'Country' and rename them\n",
    "# Example: renaming columns in death_by_smoking if needed\n",
    "death_by_smoking.rename(columns={'2021': 'Smoking_2021'}, inplace=True)\n",
    "\n",
    "# Merging the datasets\n",
    "from functools import reduce\n",
    "\n",
    "# List of dataframes to merge\n",
    "data_frames = [age_by_category, death_by_smoking, types_of_diseases, gender_data]\n",
    "\n",
    "# Merge all dataframes on 'Country' column using an inner join\n",
    "df_merged = reduce(lambda  left,right: pd.merge(left, right, on=['Country'],\n",
    "                                            how='inner'), data_frames)\n",
    "\n",
    "# Inspect the merged DataFrame\n",
    "print(df_merged.head())\n"
   ]
  },
  {
   "cell_type": "code",
   "execution_count": 3,
   "metadata": {},
   "outputs": [
    {
     "name": "stdout",
     "output_type": "stream",
     "text": [
      "     Country  1990  2021.0  Absolute Change  Relative Change  1990.1  \\\n",
      "0  Singapore   9.9     3.6             -6.3            -0.64   692.3   \n",
      "1    Ireland  14.5     4.7             -9.8            -0.68  1702.7   \n",
      "2      Malta  12.9     7.9             -5.0            -0.39   755.5   \n",
      "3     Brunei  16.9    11.6             -5.3            -0.31  1373.8   \n",
      "4    Burundi  21.0     6.4            -14.6            -0.70   542.3   \n",
      "\n",
      "   2021.0.1  Absolute Change.1  Relative Change.1  1990.2  2021.0.2  \\\n",
      "0     187.4             -505.0              -0.73   224.4      48.6   \n",
      "1     479.4            -1223.3              -0.72   416.1      91.1   \n",
      "2     248.8             -506.6              -0.67   285.8     110.1   \n",
      "3     484.8             -889.0              -0.65   347.7     123.4   \n",
      "4     191.4             -350.9              -0.65   273.3      93.7   \n",
      "\n",
      "   Absolute Change.2  Relative Change.2  Smoking_1990  Smoking_2021  Change  \\\n",
      "0             -175.8              -0.78          84.4          19.9   -64.5   \n",
      "1             -325.0              -0.78         177.1          44.0  -133.0   \n",
      "2             -175.7              -0.61          94.8          33.7   -61.1   \n",
      "3             -224.3              -0.65         154.2          58.5   -95.8   \n",
      "4             -179.6              -0.66          92.7          31.7   -61.0   \n",
      "\n",
      "   Percent_Change  Metric1  Metric2  Population  \n",
      "0           -0.76    0.280    0.050   5620150.0  \n",
      "1           -0.75    0.225    0.190   4982604.0  \n",
      "2           -0.64    0.264    0.216    518213.0  \n",
      "3           -0.62    0.300    0.023    447412.0  \n",
      "4           -0.66    0.174    0.061  12617042.0  \n"
     ]
    }
   ],
   "source": [
    "import pandas as pd\n",
    "from functools import reduce\n",
    "\n",
    "# Load the datasets assuming headers need to be defined for some\n",
    "age_by_category = pd.read_csv('cleaned_age_by_category.csv')\n",
    "death_by_smoking = pd.read_csv('cleaned_death_by_smoking.csv', header=None)\n",
    "\n",
    "gender_data = pd.read_csv('cleaned_gender.csv', header=None)\n",
    "\n",
    "# Assuming correct headers (verify and adjust according to your data)\n",
    "death_by_smoking.columns = ['Country', 'Smoking_1990', 'Smoking_2021', 'Change', 'Percent_Change']\n",
    "\n",
    "gender_data.columns = ['Country', 'Metric1', 'Metric2', 'Population']\n",
    "\n",
    "# Rename 'Country/area' to 'Country' in age_by_category\n",
    "age_by_category.rename(columns={'Country/area': 'Country'}, inplace=True)\n",
    "\n",
    "# List of dataframes to merge\n",
    "data_frames = [age_by_category, death_by_smoking, gender_data]\n",
    "\n",
    "# Merge all dataframes on 'Country' column using an inner join\n",
    "df_merged = reduce(lambda left, right: pd.merge(left, right, on=['Country'], how='inner'), data_frames)\n",
    "\n",
    "# Inspect the merged DataFrame\n",
    "print(df_merged.head())\n"
   ]
  },
  {
   "cell_type": "code",
   "execution_count": 4,
   "metadata": {},
   "outputs": [],
   "source": [
    "# Save the merged DataFrame to a CSV file\n",
    "df_merged.to_csv('merged_data.csv', index=False)\n"
   ]
  },
  {
   "cell_type": "code",
   "execution_count": 12,
   "metadata": {},
   "outputs": [
    {
     "name": "stdout",
     "output_type": "stream",
     "text": [
      "Updated dataset saved to final_merged_data1.csv\n"
     ]
    }
   ],
   "source": [
    "import pandas as pd\n",
    "import numpy as np\n",
    "\n",
    "# Define years and genders for the synthetic data\n",
    "years = np.arange(1990, 2051, 10)\n",
    "genders = ['Male', 'Female']\n",
    "\n",
    "# Generate a DataFrame with all combinations of years and genders\n",
    "synthetic_data = pd.DataFrame({\n",
    "    'Year': np.tile(years, len(genders)),\n",
    "    'Gender': np.repeat(genders, len(years))\n",
    "})\n",
    "\n",
    "# Adjusting data generation for smoking trends\n",
    "# Declining trend for current smokers\n",
    "initial_current_male = 40  # Starting percentage for males\n",
    "initial_current_female = 20  # Starting percentage for females\n",
    "\n",
    "# Slight increase or stable for former smokers\n",
    "initial_former_male = 5\n",
    "initial_former_female = 3\n",
    "\n",
    "# Generate declining trend for current smokers and slight increase for former smokers\n",
    "decline_rate_current = -2  # decline rate per decade\n",
    "increase_rate_former = 0.5  # increase rate per decade for former smokers\n",
    "\n",
    "synthetic_data['Current_Smokers_Percentage'] = np.where(\n",
    "    synthetic_data['Gender'] == 'Male',\n",
    "    initial_current_male + decline_rate_current * (synthetic_data['Year'] - 1990) / 10,\n",
    "    initial_current_female + decline_rate_current * (synthetic_data['Year'] - 1990) / 10\n",
    ")\n",
    "\n",
    "synthetic_data['Former_Smokers_Percentage'] = np.where(\n",
    "    synthetic_data['Gender'] == 'Male',\n",
    "    initial_former_male + increase_rate_former * (synthetic_data['Year'] - 1990) / 10,\n",
    "    initial_former_female + increase_rate_former * (synthetic_data['Year'] - 1990) / 10\n",
    ")\n",
    "\n",
    "# Calculate numbers assuming a population of 100 million\n",
    "population = 100  # in millions\n",
    "synthetic_data['Current_Smokers_Millions'] = (synthetic_data['Current_Smokers_Percentage'] / 100) * population\n",
    "synthetic_data['Former_Smokers_Millions'] = (synthetic_data['Former_Smokers_Percentage'] / 100) * population\n",
    "\n",
    "# Load your existing dataset\n",
    "data_path = 'modified_merged_data1.csv'\n",
    "original_data = pd.read_csv(data_path)\n",
    "\n",
    "# Concatenate the synthetic data with your original data\n",
    "combined_data = pd.concat([original_data, synthetic_data], ignore_index=True, sort=False)\n",
    "\n",
    "# Save the updated dataset to a new CSV file\n",
    "updated_csv_path = 'final_merged_data1.csv'\n",
    "combined_data.to_csv(updated_csv_path, index=False)\n",
    "\n",
    "print(f\"Updated dataset saved to {updated_csv_path}\")\n"
   ]
  }
 ],
 "metadata": {
  "kernelspec": {
   "display_name": "Python 3",
   "language": "python",
   "name": "python3"
  },
  "language_info": {
   "codemirror_mode": {
    "name": "ipython",
    "version": 3
   },
   "file_extension": ".py",
   "mimetype": "text/x-python",
   "name": "python",
   "nbconvert_exporter": "python",
   "pygments_lexer": "ipython3",
   "version": "3.12.5"
  }
 },
 "nbformat": 4,
 "nbformat_minor": 2
}
